{
  "nbformat": 4,
  "nbformat_minor": 0,
  "metadata": {
    "colab": {
      "name": "Estatistica.ipynb",
      "provenance": [],
      "collapsed_sections": []
    },
    "kernelspec": {
      "name": "python3",
      "display_name": "Python 3"
    },
    "language_info": {
      "name": "python"
    }
  },
  "cells": [
    {
      "cell_type": "markdown",
      "metadata": {
        "id": "5eGlve7zM9da"
      },
      "source": [
        "### Importação de bibliotecas"
      ]
    },
    {
      "cell_type": "code",
      "metadata": {
        "id": "O5z44DtwKtZT"
      },
      "source": [
        "import numpy as np\n",
        "import seaborn as sns\n",
        "import scipy as spy\n",
        "import pandas as pd"
      ],
      "execution_count": 1,
      "outputs": []
    },
    {
      "cell_type": "markdown",
      "metadata": {
        "id": "5UVZsNp5M27J"
      },
      "source": [
        "## Carregando os dados através do pandas."
      ]
    },
    {
      "cell_type": "code",
      "metadata": {
        "id": "UibXnWy8K_Tc"
      },
      "source": [
        "dados = pd.read_csv('dados.csv')"
      ],
      "execution_count": 2,
      "outputs": []
    },
    {
      "cell_type": "markdown",
      "metadata": {
        "id": "4yqjhv7vT9B5"
      },
      "source": [
        ""
      ]
    },
    {
      "cell_type": "markdown",
      "metadata": {
        "id": "dJe0xPMCbXOO"
      },
      "source": [
        "## Visualizando o início"
      ]
    },
    {
      "cell_type": "code",
      "metadata": {
        "colab": {
          "base_uri": "https://localhost:8080/",
          "height": 206
        },
        "id": "IGmayQRbM2GX",
        "outputId": "0aace362-2bd4-4e84-b31b-531d969d3ff9"
      },
      "source": [
        "dados.head()"
      ],
      "execution_count": 3,
      "outputs": [
        {
          "output_type": "execute_result",
          "data": {
            "text/html": [
              "<div>\n",
              "<style scoped>\n",
              "    .dataframe tbody tr th:only-of-type {\n",
              "        vertical-align: middle;\n",
              "    }\n",
              "\n",
              "    .dataframe tbody tr th {\n",
              "        vertical-align: top;\n",
              "    }\n",
              "\n",
              "    .dataframe thead th {\n",
              "        text-align: right;\n",
              "    }\n",
              "</style>\n",
              "<table border=\"1\" class=\"dataframe\">\n",
              "  <thead>\n",
              "    <tr style=\"text-align: right;\">\n",
              "      <th></th>\n",
              "      <th>UF</th>\n",
              "      <th>Sexo</th>\n",
              "      <th>Idade</th>\n",
              "      <th>Cor</th>\n",
              "      <th>Anos de Estudo</th>\n",
              "      <th>Renda</th>\n",
              "      <th>Altura</th>\n",
              "    </tr>\n",
              "  </thead>\n",
              "  <tbody>\n",
              "    <tr>\n",
              "      <th>0</th>\n",
              "      <td>11</td>\n",
              "      <td>0</td>\n",
              "      <td>23</td>\n",
              "      <td>8</td>\n",
              "      <td>12</td>\n",
              "      <td>800</td>\n",
              "      <td>1.603808</td>\n",
              "    </tr>\n",
              "    <tr>\n",
              "      <th>1</th>\n",
              "      <td>11</td>\n",
              "      <td>1</td>\n",
              "      <td>23</td>\n",
              "      <td>2</td>\n",
              "      <td>12</td>\n",
              "      <td>1150</td>\n",
              "      <td>1.739790</td>\n",
              "    </tr>\n",
              "    <tr>\n",
              "      <th>2</th>\n",
              "      <td>11</td>\n",
              "      <td>1</td>\n",
              "      <td>35</td>\n",
              "      <td>8</td>\n",
              "      <td>15</td>\n",
              "      <td>880</td>\n",
              "      <td>1.760444</td>\n",
              "    </tr>\n",
              "    <tr>\n",
              "      <th>3</th>\n",
              "      <td>11</td>\n",
              "      <td>0</td>\n",
              "      <td>46</td>\n",
              "      <td>2</td>\n",
              "      <td>6</td>\n",
              "      <td>3500</td>\n",
              "      <td>1.783158</td>\n",
              "    </tr>\n",
              "    <tr>\n",
              "      <th>4</th>\n",
              "      <td>11</td>\n",
              "      <td>1</td>\n",
              "      <td>47</td>\n",
              "      <td>8</td>\n",
              "      <td>9</td>\n",
              "      <td>150</td>\n",
              "      <td>1.690631</td>\n",
              "    </tr>\n",
              "  </tbody>\n",
              "</table>\n",
              "</div>"
            ],
            "text/plain": [
              "   UF  Sexo  Idade  Cor  Anos de Estudo  Renda    Altura\n",
              "0  11     0     23    8              12    800  1.603808\n",
              "1  11     1     23    2              12   1150  1.739790\n",
              "2  11     1     35    8              15    880  1.760444\n",
              "3  11     0     46    2               6   3500  1.783158\n",
              "4  11     1     47    8               9    150  1.690631"
            ]
          },
          "metadata": {
            "tags": []
          },
          "execution_count": 3
        }
      ]
    },
    {
      "cell_type": "markdown",
      "metadata": {
        "id": "DNXgjhuMbeQO"
      },
      "source": [
        "### Distribuição do frame"
      ]
    },
    {
      "cell_type": "markdown",
      "metadata": {
        "id": "Z9xNcY3sRG2g"
      },
      "source": [
        "Distribuição do sexo"
      ]
    },
    {
      "cell_type": "code",
      "metadata": {
        "id": "wcghJB7qQcpm"
      },
      "source": [
        "quantidade_sexo = dados['Sexo'].value_counts()"
      ],
      "execution_count": 4,
      "outputs": []
    },
    {
      "cell_type": "code",
      "metadata": {
        "id": "7buCFEagSAbI"
      },
      "source": [
        "percentual_sexo = dados['Sexo'].value_counts(normalize = True) * 100"
      ],
      "execution_count": 5,
      "outputs": []
    },
    {
      "cell_type": "code",
      "metadata": {
        "id": "8avQ1Xsnak4y"
      },
      "source": [
        "tabela = pd.DataFrame({'Quantidade por sexo' : quantidade_sexo, 'Percentual' : percentual_sexo})"
      ],
      "execution_count": 6,
      "outputs": []
    },
    {
      "cell_type": "code",
      "metadata": {
        "id": "Rn4-Ch6namav"
      },
      "source": [
        "tabela.rename(index = {0 : 'Masculino', 1 : 'Feminino'}, inplace = True)"
      ],
      "execution_count": 7,
      "outputs": []
    },
    {
      "cell_type": "code",
      "metadata": {
        "id": "eqzZMnlNa5rK"
      },
      "source": [
        "tabela.rename_axis('Sexo',axis = 'columns', inplace=True)"
      ],
      "execution_count": 8,
      "outputs": []
    },
    {
      "cell_type": "code",
      "metadata": {
        "colab": {
          "base_uri": "https://localhost:8080/",
          "height": 112
        },
        "id": "vW2Xte0Lbw4u",
        "outputId": "ac689af5-3f8e-4f65-bff8-781eaff258e8"
      },
      "source": [
        "tabela"
      ],
      "execution_count": 9,
      "outputs": [
        {
          "output_type": "execute_result",
          "data": {
            "text/html": [
              "<div>\n",
              "<style scoped>\n",
              "    .dataframe tbody tr th:only-of-type {\n",
              "        vertical-align: middle;\n",
              "    }\n",
              "\n",
              "    .dataframe tbody tr th {\n",
              "        vertical-align: top;\n",
              "    }\n",
              "\n",
              "    .dataframe thead th {\n",
              "        text-align: right;\n",
              "    }\n",
              "</style>\n",
              "<table border=\"1\" class=\"dataframe\">\n",
              "  <thead>\n",
              "    <tr style=\"text-align: right;\">\n",
              "      <th>Sexo</th>\n",
              "      <th>Quantidade por sexo</th>\n",
              "      <th>Percentual</th>\n",
              "    </tr>\n",
              "  </thead>\n",
              "  <tbody>\n",
              "    <tr>\n",
              "      <th>Masculino</th>\n",
              "      <td>53250</td>\n",
              "      <td>69.299844</td>\n",
              "    </tr>\n",
              "    <tr>\n",
              "      <th>Feminino</th>\n",
              "      <td>23590</td>\n",
              "      <td>30.700156</td>\n",
              "    </tr>\n",
              "  </tbody>\n",
              "</table>\n",
              "</div>"
            ],
            "text/plain": [
              "Sexo       Quantidade por sexo  Percentual\n",
              "Masculino                53250   69.299844\n",
              "Feminino                 23590   30.700156"
            ]
          },
          "metadata": {
            "tags": []
          },
          "execution_count": 9
        }
      ]
    },
    {
      "cell_type": "markdown",
      "metadata": {
        "id": "_8xhljLGRMLS"
      },
      "source": [
        "Distribuição de renda"
      ]
    },
    {
      "cell_type": "code",
      "metadata": {
        "id": "tWomdSq2RNsg"
      },
      "source": [
        "labels = ['E', 'D', 'C', 'B', 'A']\n",
        "classes = [0, 1576, 3152, 7880, 15760, 200000]"
      ],
      "execution_count": 10,
      "outputs": []
    },
    {
      "cell_type": "code",
      "metadata": {
        "id": "8Lezj8_uRhCw"
      },
      "source": [
        "#Contagem da frequência por classe\n",
        "frequencia_renda = pd.value_counts(\n",
        "       pd.cut(dados.Renda,\n",
        "       bins = classes,\n",
        "       labels = labels,\n",
        "       include_lowest = True\n",
        "       )\n",
        ")\n",
        "#Calculo percentual de cada classe\n",
        "percentual_renda = pd.value_counts(\n",
        "       pd.cut(dados.Renda,\n",
        "       bins = classes,\n",
        "       labels = labels,\n",
        "       include_lowest = True\n",
        "       ), \n",
        "       normalize = True\n",
        ") * 100"
      ],
      "execution_count": 11,
      "outputs": []
    },
    {
      "cell_type": "code",
      "metadata": {
        "colab": {
          "base_uri": "https://localhost:8080/",
          "height": 206
        },
        "id": "xAOrY1GSR_XA",
        "outputId": "74a0ca1d-d07e-4e5a-d9cc-d0ce4fe96ffe"
      },
      "source": [
        "#Criando o dataframe para servir de tabela para a análise\n",
        "tabela_renda = pd.DataFrame({'Frequência por classe' : frequencia_renda, 'Percentual por classe' : percentual_renda })\n",
        "tabela_renda.sort_index(ascending=False, inplace= True)\n",
        "tabela_renda.rename_axis('Classe', axis = 'columns')\n"
      ],
      "execution_count": 13,
      "outputs": [
        {
          "output_type": "execute_result",
          "data": {
            "text/html": [
              "<div>\n",
              "<style scoped>\n",
              "    .dataframe tbody tr th:only-of-type {\n",
              "        vertical-align: middle;\n",
              "    }\n",
              "\n",
              "    .dataframe tbody tr th {\n",
              "        vertical-align: top;\n",
              "    }\n",
              "\n",
              "    .dataframe thead th {\n",
              "        text-align: right;\n",
              "    }\n",
              "</style>\n",
              "<table border=\"1\" class=\"dataframe\">\n",
              "  <thead>\n",
              "    <tr style=\"text-align: right;\">\n",
              "      <th>Classe</th>\n",
              "      <th>Frequência por classe</th>\n",
              "      <th>Percentual por classe</th>\n",
              "    </tr>\n",
              "  </thead>\n",
              "  <tbody>\n",
              "    <tr>\n",
              "      <th>A</th>\n",
              "      <td>608</td>\n",
              "      <td>0.791255</td>\n",
              "    </tr>\n",
              "    <tr>\n",
              "      <th>B</th>\n",
              "      <td>2178</td>\n",
              "      <td>2.834461</td>\n",
              "    </tr>\n",
              "    <tr>\n",
              "      <th>C</th>\n",
              "      <td>7599</td>\n",
              "      <td>9.889381</td>\n",
              "    </tr>\n",
              "    <tr>\n",
              "      <th>D</th>\n",
              "      <td>16700</td>\n",
              "      <td>21.733472</td>\n",
              "    </tr>\n",
              "    <tr>\n",
              "      <th>E</th>\n",
              "      <td>49755</td>\n",
              "      <td>64.751432</td>\n",
              "    </tr>\n",
              "  </tbody>\n",
              "</table>\n",
              "</div>"
            ],
            "text/plain": [
              "Classe  Frequência por classe  Percentual por classe\n",
              "A                         608               0.791255\n",
              "B                        2178               2.834461\n",
              "C                        7599               9.889381\n",
              "D                       16700              21.733472\n",
              "E                       49755              64.751432"
            ]
          },
          "metadata": {
            "tags": []
          },
          "execution_count": 13
        }
      ]
    },
    {
      "cell_type": "code",
      "metadata": {
        "colab": {
          "base_uri": "https://localhost:8080/",
          "height": 391
        },
        "id": "o5oggDOhFtmJ",
        "outputId": "84ef6c1c-76df-43e9-ce74-1ae7330111f1"
      },
      "source": [
        "tabela_renda['Frequência por classe'].plot.bar(width= 1, color = 'red', alpha = 0.2, figsize = (12, 6))"
      ],
      "execution_count": 36,
      "outputs": [
        {
          "output_type": "execute_result",
          "data": {
            "text/plain": [
              "<matplotlib.axes._subplots.AxesSubplot at 0x7fcde270bfd0>"
            ]
          },
          "metadata": {
            "tags": []
          },
          "execution_count": 36
        },
        {
          "output_type": "display_data",
          "data": {
            "image/png": "[encoded data removed]",
            "text/plain": [
              "<Figure size 864x432 with 1 Axes>"
            ]
          },
          "metadata": {
            "tags": [],
            "needs_background": "light"
          }
        }
      ]
    },
    {
      "cell_type": "markdown",
      "metadata": {
        "id": "6uPM0mkc_8f3"
      },
      "source": [
        "Descobrindo o valor ideal de classes"
      ]
    },
    {
      "cell_type": "code",
      "metadata": {
        "id": "IW0p2j91_6LQ"
      },
      "source": [
        "tamanho_dos_dados = dados.shape[0]\n",
        "valor_ideal = 1 + ((10 / 3) * np.log10(tamanho_dos_dados))\n",
        "valor_ideal = int(valor_ideal.round(0))"
      ],
      "execution_count": 14,
      "outputs": []
    },
    {
      "cell_type": "markdown",
      "metadata": {
        "id": "9kxPsI5SAqzf"
      },
      "source": [
        "Agora iremos recriar o dataframe com as novas classes de renda."
      ]
    },
    {
      "cell_type": "code",
      "metadata": {
        "id": "XuOFdNwHAjYY"
      },
      "source": [
        "#Contagem da frequência por classe\n",
        "frequencia_renda_ideal = pd.value_counts(\n",
        "       pd.cut(dados.Renda,\n",
        "       bins = 20,\n",
        "       include_lowest = True,\n",
        "       ),\n",
        "       sort = False\n",
        ")\n",
        "#Calculo percentual de cada classe\n",
        "percentual_renda_ideal = pd.value_counts(\n",
        "       pd.cut(dados.Renda,\n",
        "       bins = 20,\n",
        "       include_lowest = True\n",
        "       ), \n",
        "       normalize = True,\n",
        "       sort = False\n",
        ") * 100"
      ],
      "execution_count": 23,
      "outputs": []
    },
    {
      "cell_type": "code",
      "metadata": {
        "colab": {
          "base_uri": "https://localhost:8080/",
          "height": 677
        },
        "id": "6-rR8JGoA9Kn",
        "outputId": "bf268d60-a583-420a-a89d-df99b747f1dc"
      },
      "source": [
        "tabela_renda_ideal = pd.DataFrame({'Frequência por classe':frequencia_renda_ideal, 'Percentual por classe' : percentual_renda_ideal})\n",
        "tabela_renda_ideal.rename_axis('Classe', axis = 'columns')"
      ],
      "execution_count": 24,
      "outputs": [
        {
          "output_type": "execute_result",
          "data": {
            "text/html": [
              "<div>\n",
              "<style scoped>\n",
              "    .dataframe tbody tr th:only-of-type {\n",
              "        vertical-align: middle;\n",
              "    }\n",
              "\n",
              "    .dataframe tbody tr th {\n",
              "        vertical-align: top;\n",
              "    }\n",
              "\n",
              "    .dataframe thead th {\n",
              "        text-align: right;\n",
              "    }\n",
              "</style>\n",
              "<table border=\"1\" class=\"dataframe\">\n",
              "  <thead>\n",
              "    <tr style=\"text-align: right;\">\n",
              "      <th>Classe</th>\n",
              "      <th>Frequência por classe</th>\n",
              "      <th>Percentual por classe</th>\n",
              "    </tr>\n",
              "  </thead>\n",
              "  <tbody>\n",
              "    <tr>\n",
              "      <th>(-200.001, 10000.0]</th>\n",
              "      <td>75466</td>\n",
              "      <td>98.211869</td>\n",
              "    </tr>\n",
              "    <tr>\n",
              "      <th>(10000.0, 20000.0]</th>\n",
              "      <td>1115</td>\n",
              "      <td>1.451067</td>\n",
              "    </tr>\n",
              "    <tr>\n",
              "      <th>(20000.0, 30000.0]</th>\n",
              "      <td>183</td>\n",
              "      <td>0.238157</td>\n",
              "    </tr>\n",
              "    <tr>\n",
              "      <th>(30000.0, 40000.0]</th>\n",
              "      <td>35</td>\n",
              "      <td>0.045549</td>\n",
              "    </tr>\n",
              "    <tr>\n",
              "      <th>(40000.0, 50000.0]</th>\n",
              "      <td>19</td>\n",
              "      <td>0.024727</td>\n",
              "    </tr>\n",
              "    <tr>\n",
              "      <th>(50000.0, 60000.0]</th>\n",
              "      <td>7</td>\n",
              "      <td>0.009110</td>\n",
              "    </tr>\n",
              "    <tr>\n",
              "      <th>(60000.0, 70000.0]</th>\n",
              "      <td>0</td>\n",
              "      <td>0.000000</td>\n",
              "    </tr>\n",
              "    <tr>\n",
              "      <th>(70000.0, 80000.0]</th>\n",
              "      <td>4</td>\n",
              "      <td>0.005206</td>\n",
              "    </tr>\n",
              "    <tr>\n",
              "      <th>(80000.0, 90000.0]</th>\n",
              "      <td>1</td>\n",
              "      <td>0.001301</td>\n",
              "    </tr>\n",
              "    <tr>\n",
              "      <th>(90000.0, 100000.0]</th>\n",
              "      <td>6</td>\n",
              "      <td>0.007808</td>\n",
              "    </tr>\n",
              "    <tr>\n",
              "      <th>(100000.0, 110000.0]</th>\n",
              "      <td>0</td>\n",
              "      <td>0.000000</td>\n",
              "    </tr>\n",
              "    <tr>\n",
              "      <th>(110000.0, 120000.0]</th>\n",
              "      <td>1</td>\n",
              "      <td>0.001301</td>\n",
              "    </tr>\n",
              "    <tr>\n",
              "      <th>(120000.0, 130000.0]</th>\n",
              "      <td>0</td>\n",
              "      <td>0.000000</td>\n",
              "    </tr>\n",
              "    <tr>\n",
              "      <th>(130000.0, 140000.0]</th>\n",
              "      <td>0</td>\n",
              "      <td>0.000000</td>\n",
              "    </tr>\n",
              "    <tr>\n",
              "      <th>(140000.0, 150000.0]</th>\n",
              "      <td>0</td>\n",
              "      <td>0.000000</td>\n",
              "    </tr>\n",
              "    <tr>\n",
              "      <th>(150000.0, 160000.0]</th>\n",
              "      <td>0</td>\n",
              "      <td>0.000000</td>\n",
              "    </tr>\n",
              "    <tr>\n",
              "      <th>(160000.0, 170000.0]</th>\n",
              "      <td>0</td>\n",
              "      <td>0.000000</td>\n",
              "    </tr>\n",
              "    <tr>\n",
              "      <th>(170000.0, 180000.0]</th>\n",
              "      <td>0</td>\n",
              "      <td>0.000000</td>\n",
              "    </tr>\n",
              "    <tr>\n",
              "      <th>(180000.0, 190000.0]</th>\n",
              "      <td>0</td>\n",
              "      <td>0.000000</td>\n",
              "    </tr>\n",
              "    <tr>\n",
              "      <th>(190000.0, 200000.0]</th>\n",
              "      <td>3</td>\n",
              "      <td>0.003904</td>\n",
              "    </tr>\n",
              "  </tbody>\n",
              "</table>\n",
              "</div>"
            ],
            "text/plain": [
              "Classe                Frequência por classe  Percentual por classe\n",
              "(-200.001, 10000.0]                   75466              98.211869\n",
              "(10000.0, 20000.0]                     1115               1.451067\n",
              "(20000.0, 30000.0]                      183               0.238157\n",
              "(30000.0, 40000.0]                       35               0.045549\n",
              "(40000.0, 50000.0]                       19               0.024727\n",
              "(50000.0, 60000.0]                        7               0.009110\n",
              "(60000.0, 70000.0]                        0               0.000000\n",
              "(70000.0, 80000.0]                        4               0.005206\n",
              "(80000.0, 90000.0]                        1               0.001301\n",
              "(90000.0, 100000.0]                       6               0.007808\n",
              "(100000.0, 110000.0]                      0               0.000000\n",
              "(110000.0, 120000.0]                      1               0.001301\n",
              "(120000.0, 130000.0]                      0               0.000000\n",
              "(130000.0, 140000.0]                      0               0.000000\n",
              "(140000.0, 150000.0]                      0               0.000000\n",
              "(150000.0, 160000.0]                      0               0.000000\n",
              "(160000.0, 170000.0]                      0               0.000000\n",
              "(170000.0, 180000.0]                      0               0.000000\n",
              "(180000.0, 190000.0]                      0               0.000000\n",
              "(190000.0, 200000.0]                      3               0.003904"
            ]
          },
          "metadata": {
            "tags": []
          },
          "execution_count": 24
        }
      ]
    }
  ]
}